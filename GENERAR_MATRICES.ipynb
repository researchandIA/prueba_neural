{
  "nbformat": 4,
  "nbformat_minor": 0,
  "metadata": {
    "colab": {
      "name": "GENERAR_MATRICES.ipynb",
      "provenance": [],
      "authorship_tag": "ABX9TyPjd4J4xqZvhfT5HYj3fbOK",
      "include_colab_link": true
    },
    "kernelspec": {
      "name": "python3",
      "display_name": "Python 3"
    },
    "language_info": {
      "name": "python"
    }
  },
  "cells": [
    {
      "cell_type": "markdown",
      "metadata": {
        "id": "view-in-github",
        "colab_type": "text"
      },
      "source": [
        "<a href=\"https://colab.research.google.com/github/researchandIA/prueba_neural/blob/main/GENERAR_MATRICES.ipynb\" target=\"_parent\"><img src=\"https://colab.research.google.com/assets/colab-badge.svg\" alt=\"Open In Colab\"/></a>"
      ]
    },
    {
      "cell_type": "markdown",
      "source": [
        "EL CODIGO GENERA MATRICES SIGUIENDO UNA LOGICA DETERMINADA Y SE ASIGNAN UN VALOR PARA EL VECTOR \"Y\" DE MANERA QUE TENEMOS 2 MATRICES CON DATOS y 2 VECTORES CON INDICES SI  SON VALIDAS O NO LAS MATRICES DE DATOS"
      ],
      "metadata": {
        "id": "E5WlurFyq8xY"
      }
    },
    {
      "cell_type": "code",
      "source": [
        "<a href=\"https://colab.research.google.com/github/googlecolab/colabtools/blob/master/notebooks/colab-github-demo.ipynb\">\n",
        "  <img src=\"https://colab.research.google.com/assets/colab-badge.svg\" alt=\"Open In Colab\"/>\n",
        "</a>"
      ],
      "metadata": {
        "id": "GY_5Gaiw3c7o"
      },
      "execution_count": null,
      "outputs": []
    },
    {
      "cell_type": "code",
      "source": [
        "from google.colab import drive\n",
        "drive.mount('/content/drive', force_remount=True)"
      ],
      "metadata": {
        "id": "3ndgY4Srq5uT",
        "colab": {
          "base_uri": "https://localhost:8080/"
        },
        "outputId": "4b315294-9607-4ada-faf9-683c2b6e69a7"
      },
      "execution_count": 27,
      "outputs": [
        {
          "output_type": "stream",
          "name": "stdout",
          "text": [
            "Mounted at /content/drive\n"
          ]
        }
      ]
    },
    {
      "cell_type": "code",
      "execution_count": 28,
      "metadata": {
        "id": "LMYsW9T6quC_"
      },
      "outputs": [],
      "source": [
        "import numpy as np\n",
        "from random import seed\n",
        "from random import randint\n",
        "\n",
        "np.set_printoptions(suppress=True)\n",
        "seed(1)\n",
        "\n",
        "\n",
        "\n",
        "def generar_matriz_valida():    \n",
        "\n",
        "    value=[]\n",
        "    for i in range(40):\n",
        "        valor=randint(0, 40)\n",
        "        if i>10:\n",
        "            if valor%2 ==1:\n",
        "                valor=0\n",
        "        value.append(valor)\n",
        "    return np.reshape(value,(4,10))\n",
        "\n",
        "\n",
        "\n",
        "matrices_ok=[]\n",
        "matrices_ok_y=[]\n",
        "for n in range(50):\n",
        "    matrices_ok.append(generar_matriz_valida())\n",
        "    matrices_ok_y.append(1)\n",
        "\n",
        "    \n",
        "\n",
        "\n",
        "def generar_matriz_incorrecta():    \n",
        "\n",
        "    value=[]\n",
        "    for i in range(40):\n",
        "        valor=randint(0, 40)\n",
        "        \n",
        "        value.append(valor)\n",
        "    return np.reshape(value,(4,10))\n",
        "\n",
        "\n",
        "matrices_nok=[]\n",
        "matrices_nok_y=[]\n",
        "for n in range(50):\n",
        "    matrices_nok.append(generar_matriz_incorrecta())\n",
        "    matrices_nok_y.append(1)\n"
      ]
    },
    {
      "cell_type": "code",
      "source": [
        "print(matrices_ok[1])\n",
        "print(matrices_ok_y[1])"
      ],
      "metadata": {
        "colab": {
          "base_uri": "https://localhost:8080/"
        },
        "id": "FWq7Jd_erSKY",
        "outputId": "1b8ef764-d72c-49ee-a3bb-c26aac299901"
      },
      "execution_count": 29,
      "outputs": [
        {
          "output_type": "stream",
          "name": "stdout",
          "text": [
            "[[14 29 18  1 26 35  6 11 40 18]\n",
            " [ 7  0 32  0 32 12  0 18  0  0]\n",
            " [32  0  0  2 30  0  0 26  0  0]\n",
            " [ 0  0  0 28 32  6 10  0  0  0]]\n",
            "1\n"
          ]
        }
      ]
    },
    {
      "cell_type": "code",
      "source": [
        "import numpy as np\n",
        "from random import seed\n",
        "from random import randint\n",
        "\n",
        "seed(1)\n",
        "\n",
        "def generar_matriz_valida():    \n",
        "# Generamos una matriz donde las posiciones posteriores a la 10 deberan ser pares o 0\n",
        "    value=[]\n",
        "    for i in range(40):\n",
        "        valor=randint(0, 40)\n",
        "        if i>10:\n",
        "            if valor%2 ==1:\n",
        "                valor=0\n",
        "        value.append(valor)\n",
        "    return np.reshape(value,(4,10))\n",
        "\n",
        "\n",
        "\n",
        "matrices_ok=[]\n",
        "matrices_ok_y=[]\n",
        "for n in range(50):\n",
        "  #Generamos una matriz donde puede tomar cualquier valor de 0 a 39\n",
        "    matrices_ok.append(generar_matriz_valida())\n",
        "    matrices_ok_y.append(1)\n",
        "\n",
        "    \n",
        "\n",
        "\n",
        "def generar_matriz_incorrecta():    \n",
        "\n",
        "    value=[]\n",
        "    for i in range(40):\n",
        "        valor=randint(0, 40)\n",
        "        \n",
        "        value.append(valor)\n",
        "    return np.reshape(value,(4,10))\n",
        "\n",
        "\n",
        "matrices_nok=[]\n",
        "matrices_nok_y=[]\n",
        "for n in range(50):\n",
        "    matrices_nok.append(generar_matriz_incorrecta())\n",
        "    matrices_nok_y.append(1)\n",
        "\n",
        "    \n"
      ],
      "metadata": {
        "id": "zBkLAaozrVZX"
      },
      "execution_count": 30,
      "outputs": []
    },
    {
      "cell_type": "code",
      "source": [
        "# EJECUTAMOS FUNCION PARA GUARDAR LOS CSV\n",
        "\n",
        "def exportar_a_csv(matrices_ok,matrices_ok_y,matrices_nok,matrices_nok_y):\n",
        "        \n",
        "    a=np.asarray(matrices_ok).reshape(40,50)\n",
        "    np.savetxt(\"drive//MyDrive//CSV//matriz_ok_v1.csv\",a,delimiter=\",\",fmt='%i')    \n",
        "    \n",
        "        \n",
        "    np.savetxt(\"drive//MyDrive//CSV//matriz_ok_y_v1.csv\",np.asarray(matrices_ok_y).reshape(1,50),delimiter=\",\",fmt='%i')\n",
        "    \n",
        "\n",
        "    b=np.asarray(matrices_ok).reshape(40,50)\n",
        "    np.savetxt(\"drive//MyDrive//CSV//matriz_nok_v1.csv\",b,delimiter=\",\",fmt='%i')\n",
        "\n",
        "    np.savetxt(\"drive//MyDrive//CSV//matriz_nok_y_v1.csv\",np.asarray(matrices_nok_y).reshape(1,50),delimiter=\",\",fmt='%i')\n",
        "\n",
        "\n",
        "  \n"
      ],
      "metadata": {
        "id": "WqDrM5t0WvE5"
      },
      "execution_count": 33,
      "outputs": []
    },
    {
      "cell_type": "code",
      "source": [
        "# EJECUTAMOS FUNCION PARA GUARDAR LOS CSV\n",
        "\n",
        "exportar_a_csv(matrices_ok,matrices_ok_y,matrices_nok,matrices_nok_y)\n",
        "  "
      ],
      "metadata": {
        "id": "3pGfii6RWzpX"
      },
      "execution_count": 34,
      "outputs": []
    },
    {
      "cell_type": "code",
      "source": [
        ""
      ],
      "metadata": {
        "id": "WlgSsZOqZ1Kp"
      },
      "execution_count": null,
      "outputs": []
    }
  ]
}